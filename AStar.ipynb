{
 "cells": [
  {
   "cell_type": "markdown",
   "metadata": {},
   "source": [
    "# Лабораторная работа №4: \"Поиск пути в среде с преградами\"\n",
    "---\n",
    "\n",
    "## Дано\n",
    "\n",
    "Клеточное поле размером $m \\times n$. Шаг между соседними клетками равен 1.\n",
    "\n",
    "Поле заполнено заданным числом препятствий, расположенных случайным образом.\n",
    "Каждое препятствие имеет единичную ширину и случайную длину в диапазоне длин от $l_{min}$ до $l_{max}$, выбираемую из равномерного распределения. Ориентация (горизонтальная или вертикальная) преграды на поле выбирается также случайным образом.\n",
    "\n",
    "В районе левой части поля случайным образом выбирается свободная клетка. Обозначается как точка ${\\bf P}_0$. В правой части аналогичным образом определяется точка ${\\bf P}_1$.\n",
    "* Размеры левой области (появления точки ${\\bf P}_0$) принять следующими:\n",
    "  $x_{min}^{left} = 0$, $x_{max}^{left} = \\left\\lfloor n/5 \\right\\rfloor$,\n",
    "  $y_{min}^{left} = 0$, $y_{max}^{left} = m$.\n",
    "* Размеры правой области (генерирования точки ${\\bf P}_1$):\n",
    "  $x_{min}^{right} = n - \\left\\lfloor n/5 \\right\\rfloor$, $x_{max}^{right} = n$,\n",
    "  $y_{min}^{right} = 0$, $y_{max}^{right} = m$.\n",
    "\n",
    "**Замечания:**\n",
    "\n",
    "* Из каждой клетки возможны 4 перемещения: вверх, вправо, вниз, влево.\n",
    "\n",
    "## Требуется\n",
    "\n",
    "1. Найти кратчайший путь из точки ${\\bf P}_0$ в точку ${\\bf P}_1$, используя алгоритм эвристического поиска A*.\n",
    "2. Показать решение графически."
   ]
  },
  {
   "cell_type": "markdown",
   "metadata": {},
   "source": [
    "## Ход работы\n",
    "---\n",
    "\n",
    "### Подключение необходимых библиотек"
   ]
  },
  {
   "cell_type": "code",
   "execution_count": 43,
   "metadata": {},
   "outputs": [],
   "source": [
    "%matplotlib inline\n",
    "\n",
    "from numpy.random import Generator, PCG64\n",
    "import matplotlib.pyplot as plt\n",
    "import numpy as np\n",
    "import heapq"
   ]
  },
  {
   "cell_type": "markdown",
   "metadata": {},
   "source": [
    "### Инициализация генератора случайных чисел\n",
    "\n",
    "Необходим для воспроизведения и сравнения результатов. Если `seed != None`, а есть любое неотрицательное число, то при каждом запуске программы генератор будет выдавать одну и ту же последовательность чисел."
   ]
  },
  {
   "cell_type": "code",
   "execution_count": 44,
   "metadata": {},
   "outputs": [],
   "source": [
    "seed = None\n",
    "rs = Generator(PCG64(seed))"
   ]
  },
  {
   "cell_type": "markdown",
   "metadata": {},
   "source": [
    "### Класс очереди (соседей)"
   ]
  },
  {
   "cell_type": "code",
   "execution_count": 45,
   "metadata": {},
   "outputs": [],
   "source": [
    "class PriorityQueue(object):\n",
    "    \"\"\"\n",
    "    Класс Очереди с приоритетами\n",
    "    Кладем в кучу элемент и его приоритет, вытаскиваем элемент с наименьшим приоритетом:\n",
    "    Берем соседа данной вершины с наименьшей стоимостью\n",
    "    \"\"\"\n",
    "    def __init__(self):\n",
    "        self.elements = []\n",
    "    \n",
    "    def is_empty(self):\n",
    "        return len(self.elements) == 0\n",
    "    \n",
    "    def put(self, elem, priority):\n",
    "        heapq.heappush(self.elements, (priority, elem))\n",
    "    \n",
    "    def get(self):\n",
    "        return heapq.heappop(self.elements)[1]"
   ]
  },
  {
   "cell_type": "markdown",
   "metadata": {},
   "source": [
    "### Класс графа (сетки)"
   ]
  },
  {
   "cell_type": "code",
   "execution_count": 46,
   "metadata": {},
   "outputs": [],
   "source": [
    "class Grid(object):\n",
    "    \n",
    "    def __init__(self, size: tuple, n_obs: int, obs_len: tuple):\n",
    "        self.grid = np.ones(shape=size, dtype=int)\n",
    "        self.fill_obstacles(n_obs, obs_len)\n",
    "        self.weights = dict()\n",
    "    \n",
    "    def fill_obstacles(self, n, obs_len):\n",
    "        \"\"\"\n",
    "        Заполнить клеточное поле `grid` `n` препятствиями.\n",
    "        Препятствие имеет случайную длину в диапазоне от `min_len` до `max_len`.\n",
    "        \"\"\"\n",
    "        for i in range(n):\n",
    "        \n",
    "            x, y = np.random.randint([0, 0], [self.grid.shape[0], self.grid.shape[1]])\n",
    "            obs = [x], [y]\n",
    "            len_obs = np.random.randint(obs_len[0], obs_len[1])\n",
    "            step = np.random.randint(1, 5)\n",
    "        \n",
    "            k = 0\n",
    "            while k < len_obs:\n",
    "            \n",
    "                # 1 - up, 2 - right, 3 - down, 4 - left\n",
    "                if step == 1:\n",
    "                    y -= 1\n",
    "                elif step == 2:\n",
    "                    x += 1\n",
    "                elif step == 3:\n",
    "                    y += 1\n",
    "                elif step == 4:\n",
    "                    x -= 1\n",
    "            \n",
    "                if 0 <= x < self.grid.shape[0] and 0 <= y < self.grid.shape[1]:\n",
    "                    obs[0].append(x)\n",
    "                    obs[1].append(y)\n",
    "            \n",
    "                k += 1\n",
    "        \n",
    "            self.grid[obs[0], obs[1]] = 0\n",
    "    \n",
    "    def in_bounds(self, id):\n",
    "        return 0 <= id[0] < self.grid.shape[0] and 0 <= id[1] < self.grid.shape[1]\n",
    "    \n",
    "    def is_not_obstacle(self, id):\n",
    "        return self.grid[id] == 1\n",
    "    \n",
    "    def get_neighbors(self, id):\n",
    "        x, y = id\n",
    "        neighbors = [(x+1, y), (x, y-1), (x-1, y), (x, y+1)]\n",
    "        neighbors = filter(self.in_bounds, neighbors)\n",
    "        neighbors = filter(self.is_not_obstacle, neighbors)\n",
    "        return neighbors\n",
    "    \n",
    "    def cost(self, node2):\n",
    "        return self.weights.get(node2, 1)"
   ]
  },
  {
   "cell_type": "markdown",
   "metadata": {},
   "source": [
    "### Алгоритм А*"
   ]
  },
  {
   "cell_type": "code",
   "execution_count": 47,
   "metadata": {},
   "outputs": [],
   "source": [
    "def search_short_path(graph, start_node, end_node, w=1):\n",
    "    \n",
    "    \"\"\"\n",
    "    Алгоритм А*\n",
    "    \"\"\"\n",
    "    \n",
    "    heuristic = lambda node1, node2: abs(node1[0] - node2[0]) + abs(node1[1] - node2[1])\n",
    "    \n",
    "    frontier = PriorityQueue()\n",
    "    frontier.put(start_node, 0)\n",
    "    \n",
    "    path = {start_node: None}\n",
    "    cost = {start_node: 0}\n",
    "    \n",
    "    while not frontier.is_empty():\n",
    "        \n",
    "        current_node = frontier.get()\n",
    "        \n",
    "        if current_node == end_node:\n",
    "            break\n",
    "        \n",
    "        for next_node in graph.get_neighbors(current_node):\n",
    "            \n",
    "            new_cost = cost[current_node] + graph.cost(next_node)\n",
    "            \n",
    "            if (next_node not in cost) or (new_cost < cost[next_node]):\n",
    "                cost[next_node] = new_cost\n",
    "                priority = new_cost + w * heuristic(end_node, next_node)\n",
    "                frontier.put(next_node, priority)\n",
    "                path[next_node] = current_node\n",
    "    \n",
    "    return path, cost"
   ]
  },
  {
   "cell_type": "markdown",
   "metadata": {},
   "source": [
    "### Функция генерации точки в свободной ячейке в заданной области"
   ]
  },
  {
   "cell_type": "code",
   "execution_count": 48,
   "metadata": {},
   "outputs": [],
   "source": [
    "def gen_point_in_area(grid, xlim, ylim):\n",
    "    \"\"\"\n",
    "    Сгенерировать случайную точку в заданной области поля `grid`.\n",
    "    Параметры `xlim` и `ylim` определяют размеры и положение области генерации точки.\n",
    "    \"\"\"\n",
    "    x, y = tuple(np.random.randint([xlim[0], ylim[0]], [xlim[1], ylim[1]]))\n",
    "    while grid.grid[(x,y)] == 0:\n",
    "        x, y = tuple(np.random.randint([xlim[0], ylim[0]], [xlim[1], ylim[1]]))\n",
    "    return x, y"
   ]
  },
  {
   "cell_type": "markdown",
   "metadata": {},
   "source": [
    "### Инициилизация исходных данных"
   ]
  },
  {
   "cell_type": "code",
   "execution_count": 80,
   "metadata": {},
   "outputs": [],
   "source": [
    "size = 100, 100\n",
    "n_obs = 250\n",
    "len_obs = 1, 7\n",
    "xlim0, ylim0 = [0, size[1] // 5], [0, size[0]]\n",
    "xlim1, ylim1 = [size[1] - size[1] // 5, size[1]], [0, size[0]]"
   ]
  },
  {
   "cell_type": "markdown",
   "metadata": {},
   "source": [
    "### Создание графа (сетки) и инициилизация точек старта и цели"
   ]
  },
  {
   "cell_type": "code",
   "execution_count": 81,
   "metadata": {},
   "outputs": [],
   "source": [
    "GRID = Grid(size, n_obs, len_obs)"
   ]
  },
  {
   "cell_type": "code",
   "execution_count": 82,
   "metadata": {},
   "outputs": [
    {
     "data": {
      "text/plain": [
       "array([[1, 1, 1, ..., 1, 1, 1],\n",
       "       [1, 1, 1, ..., 1, 1, 1],\n",
       "       [1, 1, 1, ..., 1, 1, 1],\n",
       "       ...,\n",
       "       [1, 1, 1, ..., 0, 0, 1],\n",
       "       [1, 1, 1, ..., 0, 0, 1],\n",
       "       [1, 1, 1, ..., 1, 1, 1]])"
      ]
     },
     "execution_count": 82,
     "metadata": {},
     "output_type": "execute_result"
    }
   ],
   "source": [
    "GRID.grid"
   ]
  },
  {
   "cell_type": "code",
   "execution_count": 83,
   "metadata": {},
   "outputs": [],
   "source": [
    "P0 = gen_point_in_area(GRID, xlim0, ylim0)\n",
    "P1 = gen_point_in_area(GRID, xlim1, ylim1)"
   ]
  },
  {
   "cell_type": "code",
   "execution_count": 84,
   "metadata": {},
   "outputs": [
    {
     "data": {
      "image/png": "[encoded data removed]",
      "text/plain": [
       "<Figure size 640x480 with 1 Axes>"
      ]
     },
     "metadata": {},
     "output_type": "display_data"
    }
   ],
   "source": [
    "plt.imshow(GRID.grid)\n",
    "plt.scatter(*P0, color='b')\n",
    "plt.scatter(*P1, color='r')\n",
    "plt.xlim(0,size[1]), plt.ylim(0,size[0])\n",
    "plt.show()"
   ]
  },
  {
   "cell_type": "markdown",
   "metadata": {},
   "source": [
    "### Моделирование"
   ]
  },
  {
   "cell_type": "code",
   "execution_count": 85,
   "metadata": {},
   "outputs": [],
   "source": [
    "path, cost_so_far = search_short_path(GRID, P0, P1)"
   ]
  },
  {
   "cell_type": "markdown",
   "metadata": {},
   "source": [
    "### Визуализация"
   ]
  },
  {
   "cell_type": "code",
   "execution_count": 92,
   "metadata": {},
   "outputs": [],
   "source": [
    "def plot_grid(grid, path, P0, P1, w=1,\n",
    "              cmap_grid='Dark2', cmap_traj='brg',\n",
    "              draw=True):\n",
    "    \n",
    "    \"\"\"\n",
    "    Визуализировать клеточное поле `grid`\n",
    "    \"\"\"\n",
    "    \n",
    "    def image_trajectory(grid, came_from, goal):\n",
    "        image = np.full(grid.grid.shape, np.nan)\n",
    "        traj = [goal]\n",
    "        while not (traj[-1] is None):\n",
    "            traj.append(came_from[traj[-1]])\n",
    "        traj.pop()\n",
    "        for point in traj:\n",
    "            image[point] = 1\n",
    "        return image, len(traj)\n",
    "    \n",
    "    image_traj, len_traj = image_trajectory(grid, path, P1)\n",
    "    \n",
    "    print(f'Длина пути = {len_traj} при w = {w}')\n",
    "    \n",
    "    if draw:\n",
    "        plt.title(f'Длина пути = {len_traj} при w={w}')\n",
    "        plt.imshow(grid.grid, cmap=cmap_grid)\n",
    "        plt.imshow(image_traj.T, cmap=cmap_traj)\n",
    "        plt.scatter(*P0, color='darkorange', edgecolor='k')\n",
    "        plt.scatter(*P1, color='r', edgecolor='k')\n",
    "        plt.xlim(0,size[0]), plt.ylim(0,size[1])\n",
    "        plt.show()\n",
    "    \n",
    "    return image_traj, len_traj"
   ]
  },
  {
   "cell_type": "code",
   "execution_count": 93,
   "metadata": {},
   "outputs": [
    {
     "name": "stdout",
     "output_type": "stream",
     "text": [
      "Длина пути = 94 при w = 1\n"
     ]
    },
    {
     "data": {
      "image/png": "[encoded data removed]",
      "text/plain": [
       "<Figure size 640x480 with 1 Axes>"
      ]
     },
     "metadata": {},
     "output_type": "display_data"
    }
   ],
   "source": [
    "image_trajectory, len_traj = plot_grid(GRID, path, P0, P1)"
   ]
  },
  {
   "cell_type": "markdown",
   "metadata": {},
   "source": [
    "### Варьируем вес эвристической функции"
   ]
  },
  {
   "cell_type": "code",
   "execution_count": 106,
   "metadata": {},
   "outputs": [],
   "source": [
    "W = np.arange(0.1,2.2,0.1)"
   ]
  },
  {
   "cell_type": "code",
   "execution_count": 107,
   "metadata": {},
   "outputs": [
    {
     "name": "stdout",
     "output_type": "stream",
     "text": [
      "Длина пути = 94 при w = 0.1\n",
      "Длина пути = 94 при w = 0.2\n",
      "Длина пути = 94 при w = 0.30000000000000004\n",
      "Длина пути = 94 при w = 0.4\n",
      "Длина пути = 94 при w = 0.5\n",
      "Длина пути = 94 при w = 0.6\n",
      "Длина пути = 94 при w = 0.7000000000000001\n",
      "Длина пути = 94 при w = 0.8\n",
      "Длина пути = 94 при w = 0.9\n",
      "Длина пути = 94 при w = 1.0\n",
      "Длина пути = 96 при w = 1.1\n",
      "Длина пути = 96 при w = 1.2000000000000002\n",
      "Длина пути = 102 при w = 1.3000000000000003\n",
      "Длина пути = 104 при w = 1.4000000000000001\n",
      "Длина пути = 104 при w = 1.5000000000000002\n",
      "Длина пути = 104 при w = 1.6\n",
      "Длина пути = 104 при w = 1.7000000000000002\n",
      "Длина пути = 106 при w = 1.8000000000000003\n",
      "Длина пути = 106 при w = 1.9000000000000001\n",
      "Длина пути = 106 при w = 2.0\n",
      "Длина пути = 106 при w = 2.1\n"
     ]
    }
   ],
   "source": [
    "L = []\n",
    "IM = []\n",
    "for w in W:\n",
    "    path, cost_so_far = search_short_path(GRID, P0, P1, w)\n",
    "    image_trajectory, len_traj = plot_grid(GRID, path, P0, P1, w, draw=False)\n",
    "    IM.append(image_trajectory)\n",
    "    L.append(len_traj)"
   ]
  },
  {
   "cell_type": "code",
   "execution_count": 131,
   "metadata": {},
   "outputs": [
    {
     "data": {
      "image/png": "[encoded data removed]",
      "text/plain": [
       "<Figure size 640x480 with 1 Axes>"
      ]
     },
     "metadata": {},
     "output_type": "display_data"
    }
   ],
   "source": [
    "plt.title(f'Пути при w={W[0]} (94) и w={W[-1]} (106)')\n",
    "plt.imshow(GRID.grid, cmap='bone')\n",
    "plt.imshow(IM[0].T, cmap='brg')\n",
    "plt.imshow(IM[-1].T, cmap='Dark2')\n",
    "plt.scatter(*P0, color='darkorange', edgecolor='k')\n",
    "plt.scatter(*P1, color='r', edgecolor='k')\n",
    "plt.show()"
   ]
  },
  {
   "cell_type": "code",
   "execution_count": 105,
   "metadata": {
    "scrolled": true
   },
   "outputs": [
    {
     "data": {
      "image/png": "[encoded data removed]",
      "text/plain": [
       "<Figure size 640x480 with 1 Axes>"
      ]
     },
     "metadata": {},
     "output_type": "display_data"
    }
   ],
   "source": [
    "plt.plot(W, L, color='darkorange', lw=2)\n",
    "plt.xlabel('w'), plt.ylabel('Длина пути')\n",
    "plt.grid()\n",
    "plt.show()"
   ]
  }
 ],
 "metadata": {
  "kernelspec": {
   "display_name": "Python 3 (ipykernel)",
   "language": "python",
   "name": "python3"
  },
  "language_info": {
   "codemirror_mode": {
    "name": "ipython",
    "version": 3
   },
   "file_extension": ".py",
   "mimetype": "text/x-python",
   "name": "python",
   "nbconvert_exporter": "python",
   "pygments_lexer": "ipython3",
   "version": "3.9.13"
  },
  "vscode": {
   "interpreter": {
    "hash": "afb734500600fd355917ca529030176ea0ca205570884b88f2f6f7d791fd3fbe"
   }
  }
 },
 "nbformat": 4,
 "nbformat_minor": 2
}
